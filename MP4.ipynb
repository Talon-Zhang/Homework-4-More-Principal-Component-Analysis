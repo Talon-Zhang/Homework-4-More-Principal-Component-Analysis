{
 "cells": [
  {
   "cell_type": "markdown",
   "metadata": {},
   "source": [
    "# Read Data"
   ]
  },
  {
   "cell_type": "code",
   "execution_count": 32,
   "metadata": {},
   "outputs": [
    {
     "name": "stdout",
     "output_type": "stream",
     "text": [
      "['labels', 'filenames', 'batch_label', 'data']\n",
      "(10000, 3072)\n"
     ]
    }
   ],
   "source": [
    "import cPickle\n",
    "import numpy as np\n",
    "\n",
    "def unpickle(file):\n",
    "    with open(file, 'rb') as fo:\n",
    "        d = cPickle.load(fo)\n",
    "    return d\n",
    "\n",
    "raw_data_dict = unpickle(\"data/data_batch_1\")\n",
    "raw_data_dict.update(unpickle(\"data/data_batch_1\"))\n",
    "raw_data_dict.update(unpickle(\"data/data_batch_1\"))\n",
    "raw_data_dict.update(unpickle(\"data/data_batch_1\"))\n",
    "raw_data_dict.update(unpickle(\"data/data_batch_1\"))\n",
    "raw_data_dict.update(unpickle(\"data/test_batch\"))\n",
    "label_name_dict = unpickle(\"data/batches.meta\")\n",
    "print raw_data_dict.keys()"
   ]
  },
  {
   "cell_type": "markdown",
   "metadata": {},
   "source": [
    "# Preprocess the data"
   ]
  },
  {
   "cell_type": "code",
   "execution_count": 22,
   "metadata": {},
   "outputs": [],
   "source": [
    "data_dict = {}\n",
    "for image, label in zip(raw_data_dict[\"data\"], raw_data_dict[\"labels\"]):\n",
    "    if label not in data_dict:\n",
    "        data_dict[label] = []\n",
    "    data_dict[label].append(np.array(image))"
   ]
  },
  {
   "cell_type": "markdown",
   "metadata": {},
   "source": [
    "# Print mean images"
   ]
  },
  {
   "cell_type": "code",
   "execution_count": 31,
   "metadata": {},
   "outputs": [
    {
     "name": "stdout",
     "output_type": "stream",
     "text": [
      "[[[147.777 146.634 147.667]\n",
      "  [148.472 148.991 148.986]\n",
      "  [149.246 149.965 150.182]\n",
      "  ...\n",
      "  [149.075 148.688 147.838]\n",
      "  [147.881 147.866 147.08 ]\n",
      "  [146.013 145.331 145.408]]\n",
      "\n",
      " [[147.892 146.959 147.428]\n",
      "  [147.661 147.769 147.583]\n",
      "  [148.121 148.223 148.56 ]\n",
      "  ...\n",
      "  [147.506 146.991 147.002]\n",
      "  [147.674 147.464 146.508]\n",
      "  [145.518 145.316 146.38 ]]\n",
      "\n",
      " [[147.202 145.543 146.41 ]\n",
      "  [146.193 146.819 146.741]\n",
      "  [146.565 147.07  146.579]\n",
      "  ...\n",
      "  [142.688 143.264 143.312]\n",
      "  [142.788 142.987 142.846]\n",
      "  [143.66  145.337 146.531]]\n",
      "\n",
      " ...\n",
      "\n",
      " [[151.824 149.297 148.96 ]\n",
      "  [147.041 145.951 144.404]\n",
      "  [142.311 141.298 140.54 ]\n",
      "  ...\n",
      "  [140.172 141.111 142.809]\n",
      "  [144.346 143.879 144.821]\n",
      "  [146.038 146.511 147.536]]\n",
      "\n",
      " [[149.578 147.753 147.013]\n",
      "  [145.577 145.775 146.075]\n",
      "  [144.459 142.757 141.573]\n",
      "  ...\n",
      "  [144.376 144.532 144.164]\n",
      "  [143.555 143.682 144.381]\n",
      "  [145.375 145.418 145.998]]\n",
      "\n",
      " [[146.531 144.757 144.907]\n",
      "  [144.839 144.511 144.345]\n",
      "  [144.112 143.83  143.923]\n",
      "  ...\n",
      "  [145.714 145.393 145.455]\n",
      "  [145.533 145.158 144.616]\n",
      "  [144.338 144.179 144.489]]]\n",
      "Label: 0\n"
     ]
    },
    {
     "data": {
      "image/png": "[encoded data removed]",
      "text/plain": [
       "<Figure size 432x288 with 1 Axes>"
      ]
     },
     "metadata": {
      "needs_background": "light"
     },
     "output_type": "display_data"
    },
    {
     "name": "stdout",
     "output_type": "stream",
     "text": [
      "[[[136.546 136.529 138.444]\n",
      "  [139.423 139.789 140.066]\n",
      "  [140.176 140.494 141.329]\n",
      "  ...\n",
      "  [137.744 137.18  136.826]\n",
      "  [135.465 133.335 133.105]\n",
      "  [132.599 132.232 132.203]]\n",
      "\n",
      " [[131.863 131.844 134.037]\n",
      "  [134.246 133.437 133.121]\n",
      "  [135.526 136.767 136.887]\n",
      "  ...\n",
      "  [128.428 128.082 128.276]\n",
      "  [128.635 128.009 128.286]\n",
      "  [128.956 128.793 129.185]]\n",
      "\n",
      " [[130.751 129.426 130.249]\n",
      "  [129.137 128.074 128.896]\n",
      "  [128.867 129.843 129.641]\n",
      "  ...\n",
      "  [122.246 123.701 123.794]\n",
      "  [123.856 124.702 126.033]\n",
      "  [126.333 125.745 126.941]]\n",
      "\n",
      " ...\n",
      "\n",
      " [[120.232 111.565 104.07 ]\n",
      "  [ 97.098  91.885  88.26 ]\n",
      "  [ 86.479  85.595  84.975]\n",
      "  ...\n",
      "  [ 81.136  82.55   83.506]\n",
      "  [ 86.032  89.179  93.667]\n",
      "  [101.38  111.835 119.883]]\n",
      "\n",
      " [[124.937 116.998 109.256]\n",
      "  [101.516  95.925  92.381]\n",
      "  [ 91.055  88.973  86.39 ]\n",
      "  ...\n",
      "  [ 95.732  97.448  99.184]\n",
      "  [101.086 103.781 107.5  ]\n",
      "  [111.984 116.588 120.577]]\n",
      "\n",
      " [[124.861 121.462 117.505]\n",
      "  [112.885 109.818 108.28 ]\n",
      "  [107.242 105.719 104.746]\n",
      "  ...\n",
      "  [117.109 117.81  117.963]\n",
      "  [118.172 118.604 119.42 ]\n",
      "  [120.912 122.188 123.023]]]\n",
      "Label: 1\n"
     ]
    },
    {
     "data": {
      "image/png": "[encoded data removed]",
      "text/plain": [
       "<Figure size 432x288 with 1 Axes>"
      ]
     },
     "metadata": {
      "needs_background": "light"
     },
     "output_type": "display_data"
    },
    {
     "name": "stdout",
     "output_type": "stream",
     "text": [
      "[[[123.345 122.537 123.517]\n",
      "  [124.242 124.738 125.453]\n",
      "  [125.808 126.127 126.798]\n",
      "  ...\n",
      "  [125.579 125.536 125.207]\n",
      "  [125.662 125.225 124.697]\n",
      "  [124.51  123.833 123.32 ]]\n",
      "\n",
      " [[125.289 125.195 125.228]\n",
      "  [125.756 125.61  125.991]\n",
      "  [127.198 127.722 128.439]\n",
      "  ...\n",
      "  [126.237 126.27  126.301]\n",
      "  [126.185 126.297 125.833]\n",
      "  [125.61  125.516 125.043]]\n",
      "\n",
      " [[125.574 124.951 125.297]\n",
      "  [125.867 125.53  125.622]\n",
      "  [126.465 127.926 128.857]\n",
      "  ...\n",
      "  [128.941 128.444 127.814]\n",
      "  [128.818 128.015 126.452]\n",
      "  [126.35  126.706 125.966]]\n",
      "\n",
      " ...\n",
      "\n",
      " [[110.704 110.29  111.346]\n",
      "  [111.632 110.811 109.524]\n",
      "  [108.072 106.906 106.163]\n",
      "  ...\n",
      "  [106.011 106.886 108.11 ]\n",
      "  [109.931 109.992 109.565]\n",
      "  [109.502 110.242 110.337]]\n",
      "\n",
      " [[107.869 107.011 107.353]\n",
      "  [107.61  107.904 106.721]\n",
      "  [105.719 105.455 105.496]\n",
      "  ...\n",
      "  [107.991 108.999 109.626]\n",
      "  [109.111 107.85  107.868]\n",
      "  [108.657 108.062 109.233]]\n",
      "\n",
      " [[106.971 106.071 106.55 ]\n",
      "  [107.405 107.305 106.139]\n",
      "  [105.873 105.003 105.375]\n",
      "  ...\n",
      "  [107.517 108.541 108.581]\n",
      "  [108.599 108.321 108.223]\n",
      "  [107.665 107.259 108.231]]]\n",
      "Label: 2\n"
     ]
    },
    {
     "data": {
      "image/png": "[encoded data removed]",
      "text/plain": [
       "<Figure size 432x288 with 1 Axes>"
      ]
     },
     "metadata": {
      "needs_background": "light"
     },
     "output_type": "display_data"
    },
    {
     "name": "stdout",
     "output_type": "stream",
     "text": [
      "[[[119.522 120.633 121.975]\n",
      "  [122.843 123.278 124.044]\n",
      "  [125.43  126.086 126.617]\n",
      "  ...\n",
      "  [127.149 126.599 125.716]\n",
      "  [124.253 123.639 123.465]\n",
      "  [122.723 120.372 119.162]]\n",
      "\n",
      " [[120.686 120.668 121.025]\n",
      "  [121.224 122.996 124.268]\n",
      "  [125.061 125.922 126.138]\n",
      "  ...\n",
      "  [126.223 126.597 126.064]\n",
      "  [125.363 124.914 124.35 ]\n",
      "  [123.845 121.369 119.099]]\n",
      "\n",
      " [[122.17  122.101 123.642]\n",
      "  [123.615 122.917 123.386]\n",
      "  [123.933 125.334 126.505]\n",
      "  ...\n",
      "  [122.481 123.728 123.26 ]\n",
      "  [123.283 124.091 124.387]\n",
      "  [123.813 120.783 119.504]]\n",
      "\n",
      " ...\n",
      "\n",
      " [[109.851 108.32  107.591]\n",
      "  [107.732 107.731 106.569]\n",
      "  [106.374 108.06  110.141]\n",
      "  ...\n",
      "  [108.299 108.086 106.807]\n",
      "  [105.93  104.886 105.089]\n",
      "  [106.188 107.359 108.81 ]]\n",
      "\n",
      " [[111.758 111.053 111.419]\n",
      "  [112.321 111.978 110.442]\n",
      "  [108.986 109.534 111.112]\n",
      "  ...\n",
      "  [111.625 111.97  111.125]\n",
      "  [110.213 109.949 110.351]\n",
      "  [110.562 110.695 110.539]]\n",
      "\n",
      " [[114.389 113.271 113.751]\n",
      "  [114.565 114.481 113.662]\n",
      "  [113.633 114.099 114.088]\n",
      "  ...\n",
      "  [118.219 117.266 115.968]\n",
      "  [115.067 114.247 114.101]\n",
      "  [113.479 112.215 111.463]]]\n",
      "Label: 3\n"
     ]
    },
    {
     "data": {
      "image/png": "[encoded data removed]",
      "text/plain": [
       "<Figure size 432x288 with 1 Axes>"
      ]
     },
     "metadata": {
      "needs_background": "light"
     },
     "output_type": "display_data"
    },
    {
     "name": "stdout",
     "output_type": "stream",
     "text": [
      "[[[104.527 103.08  104.573]\n",
      "  [106.941 109.259 109.468]\n",
      "  [109.838 110.726 111.76 ]\n",
      "  ...\n",
      "  [109.345 108.238 108.426]\n",
      "  [107.762 106.025 105.746]\n",
      "  [104.28  103.27  104.622]]\n",
      "\n",
      " [[106.232 105.589 106.602]\n",
      "  [107.088 108.045 109.822]\n",
      "  [110.917 111.013 112.107]\n",
      "  ...\n",
      "  [113.129 111.796 111.516]\n",
      "  [111.119 109.542 108.868]\n",
      "  [108.63  108.07  107.931]]\n",
      "\n",
      " [[109.229 107.833 109.587]\n",
      "  [110.511 109.803 110.454]\n",
      "  [111.604 112.724 114.557]\n",
      "  ...\n",
      "  [115.526 115.703 116.176]\n",
      "  [116.119 114.207 112.612]\n",
      "  [111.333 110.133 110.039]]\n",
      "\n",
      " ...\n",
      "\n",
      " [[ 96.163  95.233  94.999]\n",
      "  [ 94.122  93.797  94.085]\n",
      "  [ 94.2    94.21   94.805]\n",
      "  ...\n",
      "  [ 94.182  95.697  95.549]\n",
      "  [ 95.794  96.43   96.083]\n",
      "  [ 95.582  95.476  96.57 ]]\n",
      "\n",
      " [[ 96.944  95.651  94.998]\n",
      "  [ 94.245  94.19   95.217]\n",
      "  [ 96.07   96.438  96.897]\n",
      "  ...\n",
      "  [ 97.108  97.222  97.251]\n",
      "  [ 97.705  97.579  96.915]\n",
      "  [ 96.224  95.962  96.792]]\n",
      "\n",
      " [[ 97.302  96.77   97.208]\n",
      "  [ 97.709  98.222  97.775]\n",
      "  [ 98.296  99.61   99.255]\n",
      "  ...\n",
      "  [101.943 101.843 101.692]\n",
      "  [101.777 101.694 100.81 ]\n",
      "  [100.668  99.975  99.968]]]\n",
      "Label: 4\n"
     ]
    },
    {
     "data": {
      "image/png": "[encoded data removed]",
      "text/plain": [
       "<Figure size 432x288 with 1 Axes>"
      ]
     },
     "metadata": {
      "needs_background": "light"
     },
     "output_type": "display_data"
    },
    {
     "name": "stdout",
     "output_type": "stream",
     "text": [
      "[[[111.111 110.624 111.367]\n",
      "  [112.81  114.589 115.699]\n",
      "  [116.373 117.314 118.343]\n",
      "  ...\n",
      "  [122.031 119.856 117.692]\n",
      "  [115.657 113.682 113.084]\n",
      "  [112.694 111.421 111.657]]\n",
      "\n",
      " [[112.375 111.1   111.657]\n",
      "  [112.377 114.857 117.073]\n",
      "  [119.199 122.179 124.89 ]\n",
      "  ...\n",
      "  [128.476 125.613 122.573]\n",
      "  [119.845 117.822 116.669]\n",
      "  [115.717 113.978 114.404]]\n",
      "\n",
      " [[113.354 112.132 114.072]\n",
      "  [117.02  120.161 121.955]\n",
      "  [122.957 125.962 130.099]\n",
      "  ...\n",
      "  [133.097 129.94  127.407]\n",
      "  [125.083 121.127 118.334]\n",
      "  [116.916 115.02  114.374]]\n",
      "\n",
      " ...\n",
      "\n",
      " [[103.931 102.745 104.505]\n",
      "  [105.445 107.172 109.36 ]\n",
      "  [110.561 112.45  114.657]\n",
      "  ...\n",
      "  [115.732 113.302 111.525]\n",
      "  [110.153 108.203 106.453]\n",
      "  [105.501 104.447 104.147]]\n",
      "\n",
      " [[104.569 103.777 105.158]\n",
      "  [106.329 108.393 110.757]\n",
      "  [112.273 114.016 115.322]\n",
      "  ...\n",
      "  [116.053 113.406 111.661]\n",
      "  [110.206 109.47  108.66 ]\n",
      "  [106.896 105.405 104.509]]\n",
      "\n",
      " [[104.944 104.854 105.967]\n",
      "  [106.648 108.671 109.948]\n",
      "  [111.076 111.752 112.271]\n",
      "  ...\n",
      "  [113.849 113.761 111.706]\n",
      "  [109.584 109.128 108.483]\n",
      "  [107.773 106.51  105.523]]]\n",
      "Label: 5\n"
     ]
    },
    {
     "data": {
      "image/png": "[encoded data removed]",
      "text/plain": [
       "<Figure size 432x288 with 1 Axes>"
      ]
     },
     "metadata": {
      "needs_background": "light"
     },
     "output_type": "display_data"
    },
    {
     "name": "stdout",
     "output_type": "stream",
     "text": [
      "[[[115.152 114.686 115.663]\n",
      "  [115.274 115.374 116.546]\n",
      "  [117.481 118.535 118.653]\n",
      "  ...\n",
      "  [116.164 116.704 115.671]\n",
      "  [114.676 114.975 114.459]\n",
      "  [113.778 113.925 115.359]]\n",
      "\n",
      " [[116.942 115.711 116.298]\n",
      "  [117.127 116.839 116.98 ]\n",
      "  [118.169 118.342 118.546]\n",
      "  ...\n",
      "  [117.703 118.227 117.997]\n",
      "  [117.02  116.033 115.934]\n",
      "  [115.223 115.547 116.939]]\n",
      "\n",
      " [[118.121 116.437 116.69 ]\n",
      "  [117.908 119.235 119.284]\n",
      "  [119.079 119.425 120.224]\n",
      "  ...\n",
      "  [119.039 118.842 117.693]\n",
      "  [117.215 117.888 118.637]\n",
      "  [118.414 117.571 118.12 ]]\n",
      "\n",
      " ...\n",
      "\n",
      " [[ 98.284  93.067  90.335]\n",
      "  [ 89.697  88.164  85.993]\n",
      "  [ 84.77   82.583  81.916]\n",
      "  ...\n",
      "  [ 86.251  86.771  85.721]\n",
      "  [ 86.859  88.873  92.404]\n",
      "  [ 93.593  94.806  96.716]]\n",
      "\n",
      " [[100.137  95.997  94.894]\n",
      "  [ 92.843  90.93   89.426]\n",
      "  [ 88.828  88.063  87.863]\n",
      "  ...\n",
      "  [ 90.907  92.641  93.697]\n",
      "  [ 93.724  94.736  96.842]\n",
      "  [ 97.949  98.713 100.416]]\n",
      "\n",
      " [[101.341  98.516  98.002]\n",
      "  [ 97.697  96.49   95.474]\n",
      "  [ 95.234  94.965  94.718]\n",
      "  ...\n",
      "  [101.181 101.972 102.083]\n",
      "  [102.28  103.022 102.688]\n",
      "  [102.776 103.244 104.173]]]\n",
      "Label: 6\n"
     ]
    },
    {
     "data": {
      "image/png": "[encoded data removed]",
      "text/plain": [
       "<Figure size 432x288 with 1 Axes>"
      ]
     },
     "metadata": {
      "needs_background": "light"
     },
     "output_type": "display_data"
    },
    {
     "name": "stdout",
     "output_type": "stream",
     "text": [
      "[[[137.438 136.683 137.539]\n",
      "  [138.527 138.82  139.464]\n",
      "  [139.598 140.319 141.519]\n",
      "  ...\n",
      "  [135.444 134.648 132.997]\n",
      "  [130.572 129.386 129.685]\n",
      "  [130.976 131.344 131.33 ]]\n",
      "\n",
      " [[131.886 129.775 129.375]\n",
      "  [128.71  128.231 127.568]\n",
      "  [129.031 131.502 132.783]\n",
      "  ...\n",
      "  [127.961 126.047 125.584]\n",
      "  [125.1   124.547 125.956]\n",
      "  [126.009 125.905 127.18 ]]\n",
      "\n",
      " [[127.613 126.707 126.322]\n",
      "  [124.101 123.976 123.744]\n",
      "  [123.618 125.068 125.521]\n",
      "  ...\n",
      "  [127.052 124.076 121.539]\n",
      "  [121.385 120.457 120.948]\n",
      "  [123.705 124.578 124.679]]\n",
      "\n",
      " ...\n",
      "\n",
      " [[109.336 105.885 103.223]\n",
      "  [101.327 100.239 101.659]\n",
      "  [102.352 101.284 100.615]\n",
      "  ...\n",
      "  [ 97.732  96.786  97.517]\n",
      "  [ 98.224  99.404 100.309]\n",
      "  [101.575 103.177 106.354]]\n",
      "\n",
      " [[106.852 103.373 101.937]\n",
      "  [101.07  100.791 101.757]\n",
      "  [100.634  99.896 100.119]\n",
      "  ...\n",
      "  [ 97.59   97.882  98.487]\n",
      "  [ 97.785  98.667  99.988]\n",
      "  [100.047 100.877 102.579]]\n",
      "\n",
      " [[106.126 103.334 102.124]\n",
      "  [102.543 101.95  101.873]\n",
      "  [101.147 100.848 100.85 ]\n",
      "  ...\n",
      "  [105.616 106.339 106.642]\n",
      "  [106.225 106.676 107.   ]\n",
      "  [106.148 105.85  106.371]]]\n",
      "Label: 7\n"
     ]
    },
    {
     "data": {
      "image/png": "[encoded data removed]",
      "text/plain": [
       "<Figure size 432x288 with 1 Axes>"
      ]
     },
     "metadata": {
      "needs_background": "light"
     },
     "output_type": "display_data"
    },
    {
     "name": "stdout",
     "output_type": "stream",
     "text": [
      "[[[146.334 145.499 146.567]\n",
      "  [147.27  147.767 148.562]\n",
      "  [149.505 149.763 149.6  ]\n",
      "  ...\n",
      "  [147.212 147.467 147.635]\n",
      "  [146.819 145.703 144.471]\n",
      "  [143.703 143.089 142.86 ]]\n",
      "\n",
      " [[142.796 142.213 142.903]\n",
      "  [143.411 144.234 144.988]\n",
      "  [146.032 146.601 146.867]\n",
      "  ...\n",
      "  [144.074 143.403 143.18 ]\n",
      "  [142.909 142.362 140.904]\n",
      "  [139.973 139.165 139.428]]\n",
      "\n",
      " [[140.49  138.958 139.386]\n",
      "  [140.359 141.483 142.644]\n",
      "  [142.961 143.438 144.032]\n",
      "  ...\n",
      "  [141.589 140.377 139.569]\n",
      "  [140.151 140.053 138.809]\n",
      "  [137.558 136.44  136.227]]\n",
      "\n",
      " ...\n",
      "\n",
      " [[129.456 126.407 123.545]\n",
      "  [119.338 116.855 115.627]\n",
      "  [114.218 113.113 111.514]\n",
      "  ...\n",
      "  [108.188 109.661 110.35 ]\n",
      "  [110.901 113.836 117.087]\n",
      "  [119.479 122.299 125.368]]\n",
      "\n",
      " [[122.981 119.326 117.419]\n",
      "  [115.096 111.811 109.865]\n",
      "  [107.461 106.096 105.584]\n",
      "  ...\n",
      "  [105.84  106.763 107.793]\n",
      "  [109.193 110.845 113.039]\n",
      "  [115.44  117.298 119.803]]\n",
      "\n",
      " [[118.559 115.122 113.291]\n",
      "  [111.803 110.103 108.385]\n",
      "  [106.876 106.32  105.7  ]\n",
      "  ...\n",
      "  [109.162 110.067 110.741]\n",
      "  [111.388 112.884 114.134]\n",
      "  [115.676 116.518 118.326]]]\n",
      "Label: 8\n"
     ]
    },
    {
     "data": {
      "image/png": "[encoded data removed]",
      "text/plain": [
       "<Figure size 432x288 with 1 Axes>"
      ]
     },
     "metadata": {
      "needs_background": "light"
     },
     "output_type": "display_data"
    },
    {
     "name": "stdout",
     "output_type": "stream",
     "text": [
      "[[[163.602 163.034 164.138]\n",
      "  [165.666 166.689 167.101]\n",
      "  [167.721 167.689 167.814]\n",
      "  ...\n",
      "  [165.054 165.542 166.464]\n",
      "  [166.715 166.302 166.867]\n",
      "  [165.818 164.877 164.51 ]]\n",
      "\n",
      " [[159.421 159.055 159.648]\n",
      "  [159.565 159.503 160.277]\n",
      "  [160.401 159.564 159.384]\n",
      "  ...\n",
      "  [155.376 157.034 158.934]\n",
      "  [159.451 159.211 158.973]\n",
      "  [158.643 157.731 157.548]]\n",
      "\n",
      " [[152.928 151.519 151.604]\n",
      "  [151.385 151.212 151.149]\n",
      "  [149.854 148.924 149.367]\n",
      "  ...\n",
      "  [142.829 144.163 145.978]\n",
      "  [146.424 146.251 147.848]\n",
      "  [147.663 146.873 147.608]]\n",
      "\n",
      " ...\n",
      "\n",
      " [[113.963 105.678  99.749]\n",
      "  [ 94.551  89.718  86.449]\n",
      "  [ 85.919  84.561  82.302]\n",
      "  ...\n",
      "  [ 86.438  87.883  90.067]\n",
      "  [ 93.193  97.643 101.862]\n",
      "  [107.904 113.531 119.344]]\n",
      "\n",
      " [[120.458 113.462 107.528]\n",
      "  [ 99.822  94.434  90.489]\n",
      "  [ 87.653  85.8    85.137]\n",
      "  ...\n",
      "  [100.613 102.517 104.241]\n",
      "  [105.515 108.681 112.404]\n",
      "  [116.554 120.884 126.243]]\n",
      "\n",
      " [[128.088 122.847 118.726]\n",
      "  [113.968 109.616 106.99 ]\n",
      "  [103.293 100.083  98.934]\n",
      "  ...\n",
      "  [123.514 123.991 124.748]\n",
      "  [126.35  127.568 128.129]\n",
      "  [129.006 129.822 131.704]]]\n",
      "Label: 9\n"
     ]
    },
    {
     "data": {
      "image/png": "[encoded data removed]",
      "text/plain": [
       "<Figure size 432x288 with 1 Axes>"
      ]
     },
     "metadata": {
      "needs_background": "light"
     },
     "output_type": "display_data"
    }
   ],
   "source": [
    "%matplotlib inline \n",
    "\n",
    "from matplotlib import pylab\n",
    "from pylab import imshow, show, cm\n",
    "from scipy.stats import norm\n",
    "import cv2\n",
    "import numpy as np\n",
    "\n",
    "def view_image(image, label=\"\"):\n",
    "    \"\"\"View a single image.\"\"\"\n",
    "    print(\"Label: %s\" % label)\n",
    "    #imshow(image, cmap=cm.color)\n",
    "   # show()\n",
    "    from matplotlib import pyplot as plt\n",
    "    plt.imshow(image, interpolation='nearest')\n",
    "    plt.show()\n",
    "\n",
    "def meanImage(data_dict):\n",
    "    # return predicted labels of test set\n",
    "    mean_image_dict = {}\n",
    "    for label in range(10):\n",
    "        mean_image_dict[label] = np.zeros(3072)\n",
    "        for image in data_dict[label]:\n",
    "            mean_image_dict[label] = np.add(mean_image_dict[label], image)\n",
    "        mean_image_dict[label] /= float(len(data_dict[label]))\n",
    "        mean_image_dict[label].shape = (32, 32, 3)\n",
    "        print mean_image_dict[label]\n",
    "        view_image(mean_image_dict[label], label=label)\n",
    "        \n",
    "meanImage(data_dict)"
   ]
  },
  {
   "cell_type": "code",
   "execution_count": null,
   "metadata": {},
   "outputs": [],
   "source": [
    "import PCA from sklearn.decomposition \n",
    "    \n"
   ]
  }
 ],
 "metadata": {
  "kernelspec": {
   "display_name": "Python 2",
   "language": "python",
   "name": "python2"
  }
 },
 "nbformat": 4,
 "nbformat_minor": 2
}
